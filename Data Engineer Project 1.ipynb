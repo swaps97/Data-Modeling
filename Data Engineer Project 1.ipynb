{
 "cells": [
  {
   "cell_type": "code",
   "execution_count": 1,
   "id": "cb770100",
   "metadata": {},
   "outputs": [],
   "source": [
    "#Step 1 - Import the Library\n",
    "import psycopg2\n",
    "import pandas as pd"
   ]
  },
  {
   "cell_type": "code",
   "execution_count": 2,
   "id": "68a37a13",
   "metadata": {},
   "outputs": [],
   "source": [
    "def create_database():\n",
    "   # connect to default database\n",
    "   # we used conn = psycopg2.connect(\"host=hostname dbname=database name user=username password=database password\")\n",
    "    conn = psycopg2.connect(\"host=localhost dbname=postgres user=postgres password=Swaps123@\")\n",
    "    conn.set_session(autocommit=True)\n",
    "    cur = conn.cursor()\n",
    "    \n",
    "    # create sparkify database with UTF8 encoding\n",
    "    cur.execute(\"DROP DATABASE accounts\")\n",
    "    cur.execute(\"CREATE DATABASE accounts\")\n",
    "    \n",
    "    # close the connection to default database\n",
    "    conn.close()\n",
    "    \n",
    "    # connect to sparkify database\n",
    "    conn = psycopg2.connect(\"host=localhost dbname=accounts user=postgres password=Swaps123@\")\n",
    "    cur = conn.cursor()\n",
    "    \n",
    "    return cur, conn"
   ]
  },
  {
   "cell_type": "code",
   "execution_count": 3,
   "id": "0843f2d1",
   "metadata": {},
   "outputs": [],
   "source": [
    "def drop_tables(cur, conn):\n",
    "    for query in drop_table_queries:\n",
    "        cur.execute(query)\n",
    "        conn.commit()"
   ]
  },
  {
   "cell_type": "code",
   "execution_count": 4,
   "id": "277c7ee3",
   "metadata": {},
   "outputs": [],
   "source": [
    "def create_tables(cur, conn):\n",
    "    for query in create_table_queries:\n",
    "        cur.execute(query)\n",
    "        conn.commit()"
   ]
  },
  {
   "cell_type": "code",
   "execution_count": 5,
   "id": "6f63711d",
   "metadata": {},
   "outputs": [],
   "source": [
    "accountscountry = pd.read_csv(\"C:/Users/sc130/Downloads/3_water_withdrawal_factor_by_fuel.csv\")"
   ]
  },
  {
   "cell_type": "code",
   "execution_count": 6,
   "id": "faa6230a",
   "metadata": {},
   "outputs": [
    {
     "data": {
      "text/html": [
       "<div>\n",
       "<style scoped>\n",
       "    .dataframe tbody tr th:only-of-type {\n",
       "        vertical-align: middle;\n",
       "    }\n",
       "\n",
       "    .dataframe tbody tr th {\n",
       "        vertical-align: top;\n",
       "    }\n",
       "\n",
       "    .dataframe thead th {\n",
       "        text-align: right;\n",
       "    }\n",
       "</style>\n",
       "<table border=\"1\" class=\"dataframe\">\n",
       "  <thead>\n",
       "    <tr style=\"text-align: right;\">\n",
       "      <th></th>\n",
       "      <th>Country</th>\n",
       "      <th>Biogas</th>\n",
       "      <th>Biomass</th>\n",
       "      <th>Coal Gases</th>\n",
       "      <th>Geothermal</th>\n",
       "      <th>Hard Coal</th>\n",
       "      <th>Heavy Fuel Oil</th>\n",
       "      <th>Hydro</th>\n",
       "      <th>Lignite</th>\n",
       "      <th>Natural Gas</th>\n",
       "      <th>Nuclear</th>\n",
       "      <th>Peat</th>\n",
       "      <th>Photovoltaics</th>\n",
       "      <th>Solar Thermal</th>\n",
       "      <th>Waste</th>\n",
       "      <th>Wind</th>\n",
       "    </tr>\n",
       "  </thead>\n",
       "  <tbody>\n",
       "    <tr>\n",
       "      <th>0</th>\n",
       "      <td>Argentina</td>\n",
       "      <td>0</td>\n",
       "      <td>0</td>\n",
       "      <td>0</td>\n",
       "      <td>0</td>\n",
       "      <td>0</td>\n",
       "      <td>30</td>\n",
       "      <td>1114</td>\n",
       "      <td>0</td>\n",
       "      <td>19</td>\n",
       "      <td>39</td>\n",
       "      <td>0</td>\n",
       "      <td>0</td>\n",
       "      <td>0</td>\n",
       "      <td>0</td>\n",
       "      <td>0</td>\n",
       "    </tr>\n",
       "    <tr>\n",
       "      <th>1</th>\n",
       "      <td>Australia</td>\n",
       "      <td>2</td>\n",
       "      <td>3</td>\n",
       "      <td>3</td>\n",
       "      <td>0</td>\n",
       "      <td>3</td>\n",
       "      <td>3</td>\n",
       "      <td>520</td>\n",
       "      <td>5</td>\n",
       "      <td>3</td>\n",
       "      <td>0</td>\n",
       "      <td>0</td>\n",
       "      <td>0</td>\n",
       "      <td>0</td>\n",
       "      <td>0</td>\n",
       "      <td>0</td>\n",
       "    </tr>\n",
       "    <tr>\n",
       "      <th>2</th>\n",
       "      <td>Austria</td>\n",
       "      <td>23</td>\n",
       "      <td>13</td>\n",
       "      <td>21</td>\n",
       "      <td>0</td>\n",
       "      <td>13</td>\n",
       "      <td>9</td>\n",
       "      <td>7100</td>\n",
       "      <td>0</td>\n",
       "      <td>3</td>\n",
       "      <td>0</td>\n",
       "      <td>0</td>\n",
       "      <td>0</td>\n",
       "      <td>0</td>\n",
       "      <td>23</td>\n",
       "      <td>0</td>\n",
       "    </tr>\n",
       "    <tr>\n",
       "      <th>3</th>\n",
       "      <td>Belgium</td>\n",
       "      <td>5</td>\n",
       "      <td>14</td>\n",
       "      <td>15</td>\n",
       "      <td>0</td>\n",
       "      <td>17</td>\n",
       "      <td>6</td>\n",
       "      <td>2613</td>\n",
       "      <td>0</td>\n",
       "      <td>5</td>\n",
       "      <td>30</td>\n",
       "      <td>0</td>\n",
       "      <td>0</td>\n",
       "      <td>0</td>\n",
       "      <td>23</td>\n",
       "      <td>0</td>\n",
       "    </tr>\n",
       "    <tr>\n",
       "      <th>4</th>\n",
       "      <td>Brazil</td>\n",
       "      <td>27</td>\n",
       "      <td>17</td>\n",
       "      <td>23</td>\n",
       "      <td>0</td>\n",
       "      <td>23</td>\n",
       "      <td>24</td>\n",
       "      <td>348</td>\n",
       "      <td>36</td>\n",
       "      <td>20</td>\n",
       "      <td>39</td>\n",
       "      <td>0</td>\n",
       "      <td>0</td>\n",
       "      <td>0</td>\n",
       "      <td>0</td>\n",
       "      <td>0</td>\n",
       "    </tr>\n",
       "  </tbody>\n",
       "</table>\n",
       "</div>"
      ],
      "text/plain": [
       "     Country  Biogas  Biomass  Coal Gases  Geothermal  Hard Coal  \\\n",
       "0  Argentina       0        0           0           0          0   \n",
       "1  Australia       2        3           3           0          3   \n",
       "2    Austria      23       13          21           0         13   \n",
       "3    Belgium       5       14          15           0         17   \n",
       "4     Brazil      27       17          23           0         23   \n",
       "\n",
       "   Heavy Fuel Oil  Hydro  Lignite  Natural Gas  Nuclear  Peat  Photovoltaics  \\\n",
       "0              30   1114        0           19       39     0              0   \n",
       "1               3    520        5            3        0     0              0   \n",
       "2               9   7100        0            3        0     0              0   \n",
       "3               6   2613        0            5       30     0              0   \n",
       "4              24    348       36           20       39     0              0   \n",
       "\n",
       "   Solar Thermal  Waste  Wind  \n",
       "0              0      0     0  \n",
       "1              0      0     0  \n",
       "2              0     23     0  \n",
       "3              0     23     0  \n",
       "4              0      0     0  "
      ]
     },
     "execution_count": 6,
     "metadata": {},
     "output_type": "execute_result"
    }
   ],
   "source": [
    "accountscountry.head()"
   ]
  },
  {
   "cell_type": "code",
   "execution_count": 7,
   "id": "09b4664b",
   "metadata": {},
   "outputs": [],
   "source": [
    "accountscountry_clean = accountscountry[['Country', 'Biogas', 'Biomass', 'Geothermal']]"
   ]
  },
  {
   "cell_type": "code",
   "execution_count": 8,
   "id": "f1c7bde6",
   "metadata": {},
   "outputs": [
    {
     "data": {
      "text/html": [
       "<div>\n",
       "<style scoped>\n",
       "    .dataframe tbody tr th:only-of-type {\n",
       "        vertical-align: middle;\n",
       "    }\n",
       "\n",
       "    .dataframe tbody tr th {\n",
       "        vertical-align: top;\n",
       "    }\n",
       "\n",
       "    .dataframe thead th {\n",
       "        text-align: right;\n",
       "    }\n",
       "</style>\n",
       "<table border=\"1\" class=\"dataframe\">\n",
       "  <thead>\n",
       "    <tr style=\"text-align: right;\">\n",
       "      <th></th>\n",
       "      <th>Country</th>\n",
       "      <th>Biogas</th>\n",
       "      <th>Biomass</th>\n",
       "      <th>Geothermal</th>\n",
       "    </tr>\n",
       "  </thead>\n",
       "  <tbody>\n",
       "    <tr>\n",
       "      <th>0</th>\n",
       "      <td>Argentina</td>\n",
       "      <td>0</td>\n",
       "      <td>0</td>\n",
       "      <td>0</td>\n",
       "    </tr>\n",
       "    <tr>\n",
       "      <th>1</th>\n",
       "      <td>Australia</td>\n",
       "      <td>2</td>\n",
       "      <td>3</td>\n",
       "      <td>0</td>\n",
       "    </tr>\n",
       "    <tr>\n",
       "      <th>2</th>\n",
       "      <td>Austria</td>\n",
       "      <td>23</td>\n",
       "      <td>13</td>\n",
       "      <td>0</td>\n",
       "    </tr>\n",
       "    <tr>\n",
       "      <th>3</th>\n",
       "      <td>Belgium</td>\n",
       "      <td>5</td>\n",
       "      <td>14</td>\n",
       "      <td>0</td>\n",
       "    </tr>\n",
       "    <tr>\n",
       "      <th>4</th>\n",
       "      <td>Brazil</td>\n",
       "      <td>27</td>\n",
       "      <td>17</td>\n",
       "      <td>0</td>\n",
       "    </tr>\n",
       "  </tbody>\n",
       "</table>\n",
       "</div>"
      ],
      "text/plain": [
       "     Country  Biogas  Biomass  Geothermal\n",
       "0  Argentina       0        0           0\n",
       "1  Australia       2        3           0\n",
       "2    Austria      23       13           0\n",
       "3    Belgium       5       14           0\n",
       "4     Brazil      27       17           0"
      ]
     },
     "execution_count": 8,
     "metadata": {},
     "output_type": "execute_result"
    }
   ],
   "source": [
    "accountscountry_clean.head()"
   ]
  },
  {
   "cell_type": "code",
   "execution_count": 9,
   "id": "2b47bf93",
   "metadata": {},
   "outputs": [],
   "source": [
    "accountsdata = pd.read_csv(\"C:/Users/sc130/Downloads/4_water_consumption_factor_by_fuel.csv\")"
   ]
  },
  {
   "cell_type": "code",
   "execution_count": 10,
   "id": "fca18b80",
   "metadata": {},
   "outputs": [
    {
     "data": {
      "text/plain": [
       "Index(['Country', 'Biogas', 'Biomass', 'Coal Gases', 'Geothermal', 'Hard Coal',\n",
       "       'Heavy Fuel Oil', 'Hydro', 'Lignite', 'Natural Gas', 'Nuclear', 'Peat',\n",
       "       'Photovoltaics', 'Solar Thermal', 'Waste', 'Wind'],\n",
       "      dtype='object')"
      ]
     },
     "execution_count": 10,
     "metadata": {},
     "output_type": "execute_result"
    }
   ],
   "source": [
    "accountsdata.columns"
   ]
  },
  {
   "cell_type": "code",
   "execution_count": 11,
   "id": "10f769f3",
   "metadata": {},
   "outputs": [],
   "source": [
    "accountsdata_clean = accountsdata[['Country', 'Hydro', 'Nuclear']]"
   ]
  },
  {
   "cell_type": "code",
   "execution_count": 12,
   "id": "013af49b",
   "metadata": {},
   "outputs": [
    {
     "data": {
      "text/html": [
       "<div>\n",
       "<style scoped>\n",
       "    .dataframe tbody tr th:only-of-type {\n",
       "        vertical-align: middle;\n",
       "    }\n",
       "\n",
       "    .dataframe tbody tr th {\n",
       "        vertical-align: top;\n",
       "    }\n",
       "\n",
       "    .dataframe thead th {\n",
       "        text-align: right;\n",
       "    }\n",
       "</style>\n",
       "<table border=\"1\" class=\"dataframe\">\n",
       "  <thead>\n",
       "    <tr style=\"text-align: right;\">\n",
       "      <th></th>\n",
       "      <th>Country</th>\n",
       "      <th>Hydro</th>\n",
       "      <th>Nuclear</th>\n",
       "    </tr>\n",
       "  </thead>\n",
       "  <tbody>\n",
       "    <tr>\n",
       "      <th>0</th>\n",
       "      <td>Argentina</td>\n",
       "      <td>8.22</td>\n",
       "      <td>0.45</td>\n",
       "    </tr>\n",
       "    <tr>\n",
       "      <th>1</th>\n",
       "      <td>Australia</td>\n",
       "      <td>9.62</td>\n",
       "      <td>0.00</td>\n",
       "    </tr>\n",
       "    <tr>\n",
       "      <th>2</th>\n",
       "      <td>Austria</td>\n",
       "      <td>1.02</td>\n",
       "      <td>0.00</td>\n",
       "    </tr>\n",
       "    <tr>\n",
       "      <th>3</th>\n",
       "      <td>Belgium</td>\n",
       "      <td>3.15</td>\n",
       "      <td>0.50</td>\n",
       "    </tr>\n",
       "    <tr>\n",
       "      <th>4</th>\n",
       "      <td>Brazil</td>\n",
       "      <td>7.22</td>\n",
       "      <td>0.45</td>\n",
       "    </tr>\n",
       "  </tbody>\n",
       "</table>\n",
       "</div>"
      ],
      "text/plain": [
       "     Country  Hydro  Nuclear\n",
       "0  Argentina   8.22     0.45\n",
       "1  Australia   9.62     0.00\n",
       "2    Austria   1.02     0.00\n",
       "3    Belgium   3.15     0.50\n",
       "4     Brazil   7.22     0.45"
      ]
     },
     "execution_count": 12,
     "metadata": {},
     "output_type": "execute_result"
    }
   ],
   "source": [
    "accountsdata_clean.head()"
   ]
  },
  {
   "cell_type": "code",
   "execution_count": 13,
   "id": "a2601e9e",
   "metadata": {},
   "outputs": [],
   "source": [
    "accountseries = pd.read_csv(\"C:/Users/sc130/Downloads/6_percentage_by_electricity_source.csv\")"
   ]
  },
  {
   "cell_type": "code",
   "execution_count": 14,
   "id": "faf89fff",
   "metadata": {},
   "outputs": [
    {
     "data": {
      "text/html": [
       "<div>\n",
       "<style scoped>\n",
       "    .dataframe tbody tr th:only-of-type {\n",
       "        vertical-align: middle;\n",
       "    }\n",
       "\n",
       "    .dataframe tbody tr th {\n",
       "        vertical-align: top;\n",
       "    }\n",
       "\n",
       "    .dataframe thead th {\n",
       "        text-align: right;\n",
       "    }\n",
       "</style>\n",
       "<table border=\"1\" class=\"dataframe\">\n",
       "  <thead>\n",
       "    <tr style=\"text-align: right;\">\n",
       "      <th></th>\n",
       "      <th>Country</th>\n",
       "      <th>Biogas</th>\n",
       "      <th>Biomass</th>\n",
       "      <th>Coal Gases</th>\n",
       "      <th>Geothermal</th>\n",
       "      <th>Hard Coal</th>\n",
       "      <th>Heavy Fuel Oil</th>\n",
       "      <th>Hydro</th>\n",
       "      <th>Lignite</th>\n",
       "      <th>Natural Gas</th>\n",
       "      <th>Nuclear</th>\n",
       "      <th>Peat</th>\n",
       "      <th>Photovoltaic</th>\n",
       "      <th>Solar Thermal</th>\n",
       "      <th>Waste</th>\n",
       "      <th>Wind</th>\n",
       "    </tr>\n",
       "  </thead>\n",
       "  <tbody>\n",
       "    <tr>\n",
       "      <th>0</th>\n",
       "      <td>Argentina</td>\n",
       "      <td>0.0</td>\n",
       "      <td>2.0</td>\n",
       "      <td>0.3</td>\n",
       "      <td>0.0</td>\n",
       "      <td>2.5</td>\n",
       "      <td>13.8</td>\n",
       "      <td>29.2</td>\n",
       "      <td>0.0</td>\n",
       "      <td>47.6</td>\n",
       "      <td>4.1</td>\n",
       "      <td>0.0</td>\n",
       "      <td>0.0</td>\n",
       "      <td>0.0</td>\n",
       "      <td>0.0</td>\n",
       "      <td>0.5</td>\n",
       "    </tr>\n",
       "    <tr>\n",
       "      <th>1</th>\n",
       "      <td>Australia</td>\n",
       "      <td>0.7</td>\n",
       "      <td>0.8</td>\n",
       "      <td>0.0</td>\n",
       "      <td>0.0</td>\n",
       "      <td>42.6</td>\n",
       "      <td>2.0</td>\n",
       "      <td>7.4</td>\n",
       "      <td>18.6</td>\n",
       "      <td>21.9</td>\n",
       "      <td>0.0</td>\n",
       "      <td>0.0</td>\n",
       "      <td>2.0</td>\n",
       "      <td>0.0</td>\n",
       "      <td>0.0</td>\n",
       "      <td>4.1</td>\n",
       "    </tr>\n",
       "    <tr>\n",
       "      <th>2</th>\n",
       "      <td>Austria</td>\n",
       "      <td>0.9</td>\n",
       "      <td>5.3</td>\n",
       "      <td>3.0</td>\n",
       "      <td>0.0</td>\n",
       "      <td>4.5</td>\n",
       "      <td>0.9</td>\n",
       "      <td>68.5</td>\n",
       "      <td>0.0</td>\n",
       "      <td>8.3</td>\n",
       "      <td>0.0</td>\n",
       "      <td>0.0</td>\n",
       "      <td>1.2</td>\n",
       "      <td>0.0</td>\n",
       "      <td>1.5</td>\n",
       "      <td>5.9</td>\n",
       "    </tr>\n",
       "    <tr>\n",
       "      <th>3</th>\n",
       "      <td>Belgium</td>\n",
       "      <td>1.3</td>\n",
       "      <td>3.6</td>\n",
       "      <td>3.0</td>\n",
       "      <td>0.0</td>\n",
       "      <td>3.1</td>\n",
       "      <td>0.3</td>\n",
       "      <td>2.1</td>\n",
       "      <td>0.0</td>\n",
       "      <td>26.7</td>\n",
       "      <td>46.6</td>\n",
       "      <td>0.0</td>\n",
       "      <td>4.0</td>\n",
       "      <td>0.0</td>\n",
       "      <td>2.9</td>\n",
       "      <td>6.4</td>\n",
       "    </tr>\n",
       "    <tr>\n",
       "      <th>4</th>\n",
       "      <td>Brazil</td>\n",
       "      <td>0.1</td>\n",
       "      <td>7.7</td>\n",
       "      <td>1.4</td>\n",
       "      <td>0.0</td>\n",
       "      <td>1.8</td>\n",
       "      <td>6.0</td>\n",
       "      <td>63.3</td>\n",
       "      <td>1.3</td>\n",
       "      <td>13.7</td>\n",
       "      <td>2.6</td>\n",
       "      <td>0.0</td>\n",
       "      <td>0.0</td>\n",
       "      <td>0.0</td>\n",
       "      <td>0.0</td>\n",
       "      <td>2.1</td>\n",
       "    </tr>\n",
       "  </tbody>\n",
       "</table>\n",
       "</div>"
      ],
      "text/plain": [
       "     Country  Biogas  Biomass  Coal Gases  Geothermal  Hard Coal  \\\n",
       "0  Argentina     0.0      2.0         0.3         0.0        2.5   \n",
       "1  Australia     0.7      0.8         0.0         0.0       42.6   \n",
       "2    Austria     0.9      5.3         3.0         0.0        4.5   \n",
       "3    Belgium     1.3      3.6         3.0         0.0        3.1   \n",
       "4     Brazil     0.1      7.7         1.4         0.0        1.8   \n",
       "\n",
       "   Heavy Fuel Oil  Hydro  Lignite  Natural Gas  Nuclear  Peat  Photovoltaic  \\\n",
       "0            13.8   29.2      0.0         47.6      4.1   0.0           0.0   \n",
       "1             2.0    7.4     18.6         21.9      0.0   0.0           2.0   \n",
       "2             0.9   68.5      0.0          8.3      0.0   0.0           1.2   \n",
       "3             0.3    2.1      0.0         26.7     46.6   0.0           4.0   \n",
       "4             6.0   63.3      1.3         13.7      2.6   0.0           0.0   \n",
       "\n",
       "   Solar Thermal  Waste  Wind  \n",
       "0            0.0    0.0   0.5  \n",
       "1            0.0    0.0   4.1  \n",
       "2            0.0    1.5   5.9  \n",
       "3            0.0    2.9   6.4  \n",
       "4            0.0    0.0   2.1  "
      ]
     },
     "execution_count": 14,
     "metadata": {},
     "output_type": "execute_result"
    }
   ],
   "source": [
    "accountseries.head()"
   ]
  },
  {
   "cell_type": "code",
   "execution_count": 15,
   "id": "13ada3f7",
   "metadata": {},
   "outputs": [],
   "source": [
    "accountseries_clean = accountseries[['Nuclear', 'Photovoltaic', 'Wind']]"
   ]
  },
  {
   "cell_type": "code",
   "execution_count": 16,
   "id": "111ecf5a",
   "metadata": {
    "scrolled": true
   },
   "outputs": [
    {
     "data": {
      "text/html": [
       "<div>\n",
       "<style scoped>\n",
       "    .dataframe tbody tr th:only-of-type {\n",
       "        vertical-align: middle;\n",
       "    }\n",
       "\n",
       "    .dataframe tbody tr th {\n",
       "        vertical-align: top;\n",
       "    }\n",
       "\n",
       "    .dataframe thead th {\n",
       "        text-align: right;\n",
       "    }\n",
       "</style>\n",
       "<table border=\"1\" class=\"dataframe\">\n",
       "  <thead>\n",
       "    <tr style=\"text-align: right;\">\n",
       "      <th></th>\n",
       "      <th>Nuclear</th>\n",
       "      <th>Photovoltaic</th>\n",
       "      <th>Wind</th>\n",
       "    </tr>\n",
       "  </thead>\n",
       "  <tbody>\n",
       "    <tr>\n",
       "      <th>0</th>\n",
       "      <td>4.1</td>\n",
       "      <td>0.0</td>\n",
       "      <td>0.5</td>\n",
       "    </tr>\n",
       "    <tr>\n",
       "      <th>1</th>\n",
       "      <td>0.0</td>\n",
       "      <td>2.0</td>\n",
       "      <td>4.1</td>\n",
       "    </tr>\n",
       "    <tr>\n",
       "      <th>2</th>\n",
       "      <td>0.0</td>\n",
       "      <td>1.2</td>\n",
       "      <td>5.9</td>\n",
       "    </tr>\n",
       "    <tr>\n",
       "      <th>3</th>\n",
       "      <td>46.6</td>\n",
       "      <td>4.0</td>\n",
       "      <td>6.4</td>\n",
       "    </tr>\n",
       "    <tr>\n",
       "      <th>4</th>\n",
       "      <td>2.6</td>\n",
       "      <td>0.0</td>\n",
       "      <td>2.1</td>\n",
       "    </tr>\n",
       "  </tbody>\n",
       "</table>\n",
       "</div>"
      ],
      "text/plain": [
       "   Nuclear  Photovoltaic  Wind\n",
       "0      4.1           0.0   0.5\n",
       "1      0.0           2.0   4.1\n",
       "2      0.0           1.2   5.9\n",
       "3     46.6           4.0   6.4\n",
       "4      2.6           0.0   2.1"
      ]
     },
     "execution_count": 16,
     "metadata": {},
     "output_type": "execute_result"
    }
   ],
   "source": [
    "accountseries_clean.head()"
   ]
  },
  {
   "cell_type": "code",
   "execution_count": 17,
   "id": "fe512311",
   "metadata": {},
   "outputs": [],
   "source": [
    "cur, conn = create_database()"
   ]
  },
  {
   "cell_type": "code",
   "execution_count": 18,
   "id": "35ab4cfa",
   "metadata": {},
   "outputs": [],
   "source": [
    "songplay_table_create = (\"\"\"CREATE TABLE IF NOT EXISTS accountscountry(\n",
    "Country VARCHAR PRIMARY KEY,\n",
    "Biogas numeric,\n",
    "Biomass numeric,\n",
    "Geothermal numeric\n",
    ")\"\"\")"
   ]
  },
  {
   "cell_type": "code",
   "execution_count": 19,
   "id": "2eb11e77",
   "metadata": {},
   "outputs": [],
   "source": [
    "cur.execute(songplay_table_create)\n",
    "conn.commit()"
   ]
  },
  {
   "cell_type": "code",
   "execution_count": 20,
   "id": "5722a37a",
   "metadata": {},
   "outputs": [],
   "source": [
    "accounts_data_table_create = (\"\"\"CREATE TABLE IF NOT EXISTS accountsdata(\n",
    "Country VARCHAR,\n",
    "Hydro numeric,\n",
    "Nuclear numeric\n",
    ")\"\"\")"
   ]
  },
  {
   "cell_type": "code",
   "execution_count": 21,
   "id": "9a569349",
   "metadata": {},
   "outputs": [],
   "source": [
    "cur.execute(accounts_data_table_create)\n",
    "conn.commit()"
   ]
  },
  {
   "cell_type": "code",
   "execution_count": 22,
   "id": "30e085c5",
   "metadata": {},
   "outputs": [],
   "source": [
    "accounts_series_table_create = (\"\"\"CREATE TABLE IF NOT EXISTS accountseries(\n",
    "Nuclear numeric,\n",
    "Photovoltaic numeric,\n",
    "Wind numeric\n",
    ")\"\"\")"
   ]
  },
  {
   "cell_type": "code",
   "execution_count": 23,
   "id": "27933f8c",
   "metadata": {},
   "outputs": [],
   "source": [
    "cur.execute(accounts_series_table_create)\n",
    "conn.commit()"
   ]
  },
  {
   "cell_type": "code",
   "execution_count": 24,
   "id": "b7dc2db8",
   "metadata": {},
   "outputs": [],
   "source": [
    "accounts_country_create_table_insert = (\"\"\"INSERT INTO accountscountry(\n",
    "Country,\n",
    "Biogas,\n",
    "Biomass,\n",
    "Geothermal)\n",
    "VALUES (%s, %s, %s, %s)\n",
    "\"\"\")"
   ]
  },
  {
   "cell_type": "code",
   "execution_count": 25,
   "id": "4b7d8f10",
   "metadata": {},
   "outputs": [],
   "source": [
    "for i, row in accountscountry_clean.iterrows():\n",
    "    cur.execute(accounts_country_create_table_insert, list(row))"
   ]
  },
  {
   "cell_type": "code",
   "execution_count": 26,
   "id": "807d1385",
   "metadata": {},
   "outputs": [],
   "source": [
    "conn.commit()"
   ]
  },
  {
   "cell_type": "code",
   "execution_count": 27,
   "id": "fd180372",
   "metadata": {},
   "outputs": [],
   "source": [
    "accounts_data_table_insert = (\"\"\"INSERT INTO accountsdata(\n",
    "Country,\n",
    "Hydro,\n",
    "Nuclear)\n",
    "VALUES (%s, %s, %s)\n",
    "\"\"\")"
   ]
  },
  {
   "cell_type": "code",
   "execution_count": 28,
   "id": "bb66a149",
   "metadata": {},
   "outputs": [],
   "source": [
    "for i, row in accountsdata_clean.iterrows():\n",
    "    cur.execute(accounts_data_table_insert, list(row))"
   ]
  },
  {
   "cell_type": "code",
   "execution_count": 29,
   "id": "03e98d60",
   "metadata": {},
   "outputs": [],
   "source": [
    "conn.commit()"
   ]
  },
  {
   "cell_type": "code",
   "execution_count": 30,
   "id": "a8e33a48",
   "metadata": {},
   "outputs": [],
   "source": [
    "accounts_series_table_insert = (\"\"\"INSERT INTO accountseries(\n",
    "Nuclear,\n",
    "Photovoltaic,\n",
    "Wind)\n",
    "VALUES (%s, %s, %s)\n",
    "\"\"\")"
   ]
  },
  {
   "cell_type": "code",
   "execution_count": 31,
   "id": "7bc4124c",
   "metadata": {},
   "outputs": [],
   "source": [
    "for i, row in accountseries_clean.iterrows():\n",
    "    cur.execute(accounts_series_table_insert, list(row))"
   ]
  },
  {
   "cell_type": "code",
   "execution_count": 32,
   "id": "74f37c34",
   "metadata": {},
   "outputs": [],
   "source": [
    "conn.commit()"
   ]
  },
  {
   "cell_type": "code",
   "execution_count": null,
   "id": "7a60161d",
   "metadata": {},
   "outputs": [],
   "source": []
  }
 ],
 "metadata": {
  "kernelspec": {
   "display_name": "Python 3 (ipykernel)",
   "language": "python",
   "name": "python3"
  },
  "language_info": {
   "codemirror_mode": {
    "name": "ipython",
    "version": 3
   },
   "file_extension": ".py",
   "mimetype": "text/x-python",
   "name": "python",
   "nbconvert_exporter": "python",
   "pygments_lexer": "ipython3",
   "version": "3.9.7"
  }
 },
 "nbformat": 4,
 "nbformat_minor": 5
}
